{
 "cells": [
  {
   "cell_type": "markdown",
   "metadata": {},
   "source": [
    "### The University of Melbourne, School of Computing and Information Systems\n",
    "# COMP30027 Machine Learning, 2022 Semester 1\n",
    "\n",
    "## Assignment 1: Naive Bayes Leaner for Adult Database\n"
   ]
  },
  {
   "cell_type": "markdown",
   "metadata": {},
   "source": [
    "**Student Name(s):** `Tuan Anh Chau`\n",
    "<br>\n",
    "**Student ID(s):** `1166394`"
   ]
  },
  {
   "cell_type": "markdown",
   "metadata": {},
   "source": [
    "\n",
    "\n",
    "Marking will be applied on the four functions that are defined in this notebook, and to your responses to the questions at the end of this notebook.\n",
    "\n",
    "## General info\n",
    "\n",
    "<b>Due date</b>: Friday, 8 April 2022 7pm\n",
    "\n",
    "<b>Submission method</b>: Canvas submission\n",
    "\n",
    "<b>Submission materials</b>: This iPython notebook is a template which you will use for your Assignment 1 submission. You need to only submitted the completed copy of this iPython notebook.\n",
    "\n",
    "<b>Late submissions</b>: -10% per day up to 5 days (both weekdays and weekends count). Submissions more than 5 days late will not be accepted (resul in a mark of 0).\n",
    "<ul>\n",
    "    <li>one day late, -1.0;</li>\n",
    "    <li>two days late, -2.0;</li>\n",
    "    <li>three days late, -3.0;</li>\n",
    "    <li>four days late, -4.0;</li>\n",
    "    <li>five days late, -5.0;</li>\n",
    "</ul>\n",
    "\n",
    "<b>Extensions</b>: Students who are demonstrably unable to submit a full solution in time due to medical reasons or other trauma, may apply for an extension.  In these cases, you should email <a href=\"mailto:ni.ding@unimelb.edu.au\">Ni Ding</a> as soon as possible after those circumstances arise. If you attend a GP or other health care service as a result of illness, be sure to provide a Health Professional Report (HPR) form (get it from the Special Consideration section of the Student Portal), you will need this form to be filled out if your illness develops into something that later requires a Special Consideration application to be lodged. You should scan the HPR form and send it with the extension requests.\n",
    "\n",
    "<b>Marks</b>: This assignment will be marked out of 20, and make up 20% of your overall mark for this subject.\n",
    "\n",
    "<b>Materials</b>: Use Jupyter Notebook and Python page on Canvas for information on the basic setup required for this class, including an iPython notebook viewer and the python packages NLTK, Numpy, Scipy, Matplotlib, Scikit-Learn. You can use any Python built-in packages, but do not use any other 3rd party packages; if your iPython notebook doesn't run on the marker's machine, you will lose marks. <b> You should use Python 3</b>.  \n",
    "\n",
    "\n",
    "<b>Evaluation</b>: Your iPython notebook should run end-to-end without any errors in a reasonable amount of time, and you must follow all instructions provided below, including specific implementation requirements and instructions for what needs to be printed (please avoid printing output we don't ask for). You should edit the sections below where requested, but leave the rest of the code as is. You should leave the output from running your code in the iPython notebook you submit, to assist with marking. The amount each section is worth is given in parenthesis after the instructions. \n",
    "\n",
    "You will be marked not only on the correctness of your methods, but also the quality and efficency of your code: in particular, you should be careful to use Python built-in functions and operators when appropriate and pick descriptive variable names that adhere to <a href=\"https://www.python.org/dev/peps/pep-0008/\">Python style requirements</a>. If you think it might be unclear what you are doing, you should comment your code to help the marker make sense of it. We reserve the right to deduct up to 2 marks for unreadable or exessively inefficient code.\n",
    "\n",
    "8 of the marks available for this Project will be assigned to whether the four specified Python functions work in a manner consistent with the materials from COMP30027. Any other implementation will not be directly assessed (except insofar as it is required to make these five functions work correctly).\n",
    "\n",
    "12 of the marks will be assigned to your responses to the questions, in terms of both accuracy and insightfulness. We will be looking for evidence that you have an implementation that allows you to explore the problem, but also that you have thought deeply about the data and the behaviour of the Naive Bayes classifier.\n",
    "\n",
    "<b>Updates</b>: Any major changes to the assignment will be announced via Canvas. Minor changes and clarifications will be announced on the discussion board (ED -> Assignments -> A1); we recommend you check it regularly.\n",
    "\n",
    "<b>Academic misconduct</b>: For most people, collaboration will form a natural part of the undertaking of this homework, and we encourge you to discuss it in general terms with other students. However, this ultimately is still an individual task, and so reuse of code or other instances of clear influence will be considered cheating. Please check the <a href=\"https://canvas.lms.unimelb.edu.au/courses/124196/modules#module_662096\">CIS Academic Honesty training</a> for more information. We will be checking submissions for originality and will invoke the University’s <a href=\"http://academichonesty.unimelb.edu.au/policy.html\">Academic Misconduct policy</a> where inappropriate levels of collusion or plagiarism are deemed to have taken place.\n",
    "\n",
    "**IMPORTANT**\n",
    "\n",
    "Please carefully read and fill out the <b>Authorship Declaration</b> form at the bottom of the page. Failure to fill out this form results in the following deductions: \n",
    "<UL TYPE=”square”>\n",
    "<LI>missing Authorship Declaration at the bottom of the page, -5.0\n",
    "<LI>incomplete or unsigned Authorship Declaration at the bottom of the page, -3.0\n",
    "</UL>\n",
    "**NOTE: COMPLETE AND SUBMIT THIS FILE. YOU SHOULD IMPLEMENT FOUR FUNCTIONS AND INCLUDE YOUR ANSWERS TO THE QUESTIONS IN THIS FILE ONLY. NO OTHER SUBMISSION IS REQUIRED.**\n",
    "\n",
    "**Keep your code clean. Adding proper comments to your code is MANDATORY.**"
   ]
  },
  {
   "cell_type": "markdown",
   "metadata": {},
   "source": [
    "## Part 1: Base code [8 marks]\n",
    "\n",
    "Instructions\n",
    "1. Do **not** shuffle the data set\n",
    "2. Treat the attributes as they are(e.g., do **not** convert numeric attributes to categorical or categorical to numeric). Implement a Naive Bayes classifier with appropriate likelihood function for each attribute.\n",
    "3. You should implement the Naive Bayes classifier from scratch. Do **not** use existing implementations/learning algorithms.\n",
    "4. You CANNOT have more than one train or predict function. Both continuous numeric attributes and categorical ones should be trained in one `train()` function, similarly for the `predict()`.  \n",
    "5. Apart from the instructions in point 3, you may use libraries to help you with data reading, representation, maths or evaluation\n",
    "6. Ensure that all and only required information is printed, as indicated in the final three code cells. Failure to adhere to print the required information will result in **[-1 mark]** per case. *(We don't mind details like you print a list or several numbers -- just make sure the information is displayed so that it's easily accessible)\n",
    "7. You may change the prototypes of these functions, and you may write other functions, according to your requirements. We would appreciate it if the required functions were prominent/easy to find. \n",
    "8. You should add adequate comments to make your code easily comprehendible.*"
   ]
  },
  {
   "cell_type": "code",
   "execution_count": 4,
   "metadata": {},
   "outputs": [],
   "source": [
    "# Import the necessary libraries\n",
    "import numpy as np\n",
    "import math \n",
    "from collections import defaultdict, Counter\n",
    "from sklearn.model_selection import train_test_split"
   ]
  },
  {
   "cell_type": "code",
   "execution_count": 5,
   "metadata": {},
   "outputs": [],
   "source": [
    "def preprocess(filename):\n",
    "    data = []\n",
    "    with open(filename, 'r') as f:\n",
    "        attributes = f.readline().strip().split(',')[:-1]\n",
    "        for line in f.readlines():\n",
    "            data.append(list(map(lambda x: x.strip(), line.strip().split(','))))\n",
    "\n",
    "    train_data, test_data = train_test_split(data, test_size=0.1, shuffle=False)\n",
    "    return attributes, train_data, test_data"
   ]
  },
  {
   "cell_type": "code",
   "execution_count": 6,
   "metadata": {},
   "outputs": [],
   "source": [
    "def train(train_data, attributes):\n",
    "  \n",
    "    prior_probability = defaultdict(int)\n",
    "    conditional_probability = defaultdict(dict)\n",
    "    data_dict = defaultdict(dict)\n",
    "    attribute_type = {}\n",
    "\n",
    "    # Categorize the attributes into numerical and nominal by iterating through the dataset\n",
    "    for i in range(len(attributes)):\n",
    "        stop = False\n",
    "        j = 0\n",
    "        while not stop:\n",
    "            if train_data[j][i] == '?':\n",
    "                j += 1\n",
    "                continue\n",
    "            try:\n",
    "                int(train_data[j][i])\n",
    "                attribute_type[attributes[i]] = 'numeric'\n",
    "            except ValueError:\n",
    "                attribute_type[attributes[i]] = 'nominal'\n",
    "\n",
    "            stop = True\n",
    "    \n",
    "    for instance in train_data:\n",
    "        prior_probability[instance[-1]] += 1\n",
    "        for i in range(len(instance) - 1):\n",
    "            # For the nominal attributes, count each value's number of appearance in the dataset and record that value in the\n",
    "            # values dictionary\n",
    "            if attribute_type[attributes[i]] == 'nominal':\n",
    "                if attributes[i] not in data_dict[instance[-1]]:\n",
    "                    data_dict[instance[-1]][attributes[i]] = defaultdict(int)\n",
    "                data_dict[instance[-1]][attributes[i]][instance[i]] += 1\n",
    "\n",
    "            # For the numeric attributes, store the data into an array for later calculation\n",
    "            else:\n",
    "                if instance[i] != \"?\":\n",
    "                    if attributes[i] not in data_dict[instance[-1]]:\n",
    "                        data_dict[instance[-1]][attributes[i]] = [float(instance[i])]\n",
    "                    else:\n",
    "                        data_dict[instance[-1]][attributes[i]].append(float(instance[i]))\n",
    "    \n",
    "    for label in data_dict:\n",
    "        prior_probability[label] /= len(train_data)\n",
    "        for attribute in data_dict[label]:\n",
    "            if attribute_type[attribute] == 'nominal':\n",
    "                \n",
    "                # Perform Laplace smoothing with alpha = 1\n",
    "                for value in data_dict[label][attribute]:\n",
    "                    data_dict[label][attribute][value] += 1\n",
    "\n",
    "                # For each nominal attributes we will add in an additional values: unseen. Unseen refers to values that may\n",
    "                # be present in the testing dataset, but have not been seen before in the training process. \n",
    "                data_dict[label][attribute][\"unseen\"] += 1\n",
    "\n",
    "                # Smooth the missing values if no missing values have been recorded\n",
    "                \n",
    "                # Calculate the conditional probability\n",
    "                conditional_probability[label][attribute] = {}\n",
    "                for value in data_dict[label][attribute]:\n",
    "                    conditional_probability[label][attribute][value] = data_dict[label][attribute][value] / np.sum(list(data_dict[label][attribute].values()))\n",
    "                \n",
    "            else:\n",
    "                conditional_probability[label][attribute] = data_dict[label][attribute]\n",
    "    \n",
    "    result = {\n",
    "        \"prior_probability\": prior_probability,\n",
    "        \"conditional_probability\": conditional_probability,\n",
    "        \"attribute_type\": attribute_type\n",
    "    }\n",
    "\n",
    "    return result"
   ]
  },
  {
   "cell_type": "code",
   "execution_count": 7,
   "metadata": {},
   "outputs": [],
   "source": [
    "# This function should predict classes for new items in the testing data\n",
    "\n",
    "def gaussian_pdf(value, mean, sd):\n",
    "    return (1/(sd * math.sqrt(2 * math.pi))) * math.exp((-1/2)*math.pow((value - mean)/sd, 2))\n",
    "\n",
    "def kde(value, data, kernel_bandwidth):\n",
    "    result = []\n",
    "    for i in range(len(data)):\n",
    "        result.append(gaussian_pdf(value - data[i], 0, kernel_bandwidth))\n",
    "    return np.sum(result) / len(data)\n",
    "\n",
    "def predict(trained_data, test_data, kernel=None):\n",
    "    # Kernel bandwidth is used for KDE calculation only\n",
    "\n",
    "    attributes = list(trained_data[\"attribute_type\"].keys())\n",
    "    probabilities = []\n",
    "    classifiers = []\n",
    "    labels = list(trained_data[\"conditional_probability\"].keys())\n",
    "    index = 0\n",
    "\n",
    "    # Calculate the log-probability\n",
    "    for instance in test_data:\n",
    "        probabilities.append({})\n",
    "        for label in labels:\n",
    "            value = math.log(trained_data[\"prior_probability\"][label])\n",
    "            for i in range(len(instance) - 1):\n",
    "                if trained_data[\"attribute_type\"][attributes[i]] == 'numeric':\n",
    "                    # Ignore missing values\n",
    "                    if instance[i] != \"?\":\n",
    "                        if kernel == None:\n",
    "                            mean = np.mean(np.array(trained_data[\"conditional_probability\"][label][attributes[i]]))\n",
    "                            sd = np.std(np.array(trained_data[\"conditional_probability\"][label][attributes[i]]))\n",
    "                            value += math.log(gaussian_pdf(float(instance[i]), mean, sd))\n",
    "                        else:\n",
    "                            value += math.log(kde(float(instance[i]), trained_data[\"conditional_probability\"][label][attributes[i]], kernel))\n",
    "                else:\n",
    "                    # Check for unseen values, which includes missing values if the training dataset contains no missing \n",
    "                    # values in the corresponding attribute\n",
    "                    if instance[i] not in trained_data[\"conditional_probability\"][label][attributes[i]]:\n",
    "                        value += math.log(trained_data[\"conditional_probability\"][label][attributes[i]][\"unseen\"])\n",
    "                    else:\n",
    "                        value += math.log(trained_data[\"conditional_probability\"][label][attributes[i]][instance[i]])\n",
    "\n",
    "            probabilities[index][label] = value\n",
    "\n",
    "        # Get the argmax\n",
    "        local_max = probabilities[index][labels[0]]\n",
    "        result = labels[0]\n",
    "        for i in range(1, len(labels)):\n",
    "            if probabilities[index][labels[i]] > local_max:\n",
    "                local_max = probabilities[index][labels[i]]\n",
    "                result = labels[i]\n",
    "        \n",
    "        classifiers.append(result)\n",
    "        index += 1\n",
    "\n",
    "    return probabilities, classifiers\n"
   ]
  },
  {
   "cell_type": "code",
   "execution_count": 675,
   "metadata": {},
   "outputs": [],
   "source": [
    "# This function should evaluate the prediction performance by comparing your model’s class outputs to ground\n",
    "# truth labels, return and output accuracy, confusion matrix and F1 score.\n",
    "def evaluate(result, test_data):\n",
    "    true_positive = true_negative = false_positive = false_negative = 0\n",
    "    for i in range(len(result)):\n",
    "\n",
    "        # <=50K will be considered as positive\n",
    "        if result[i] == test_data[i][-1]:\n",
    "            if test_data[i][-1] == '<=50K':\n",
    "                true_positive += 1\n",
    "            else:\n",
    "                true_negative += 1\n",
    "        else:\n",
    "            if test_data[i][-1] == '<=50K':\n",
    "                false_negative += 1\n",
    "            else:\n",
    "                false_positive += 1\n",
    "\n",
    "    # Calculate the required metrics\n",
    "    confusion_matrix = [[true_positive, false_negative], [false_positive, true_negative]]\n",
    "    accuracy = (true_positive + true_negative) / len(test_data)\n",
    "    precision = true_positive / (true_positive + false_positive)\n",
    "    recall = true_positive / (true_positive + false_negative)\n",
    "    f_score = 2 * precision * recall / (precision + recall)\n",
    "    \n",
    "    \n",
    "    return confusion_matrix, accuracy, f_score"
   ]
  },
  {
   "cell_type": "code",
   "execution_count": 676,
   "metadata": {},
   "outputs": [
    {
     "name": "stdout",
     "output_type": "stream",
     "text": [
      "Accuracy:  0.86\n",
      "F-score:  0.9078947368421053\n",
      "Confusion matrix: \n",
      "[69, 8]\n",
      "[6, 17]\n",
      "Attribute vectors of instances [0, 1, 2]:  [['68', '?', '1st-4th', '2', 'Divorced', '?', 'Not-in-family', 'White', 'Female', '20', 'United-States'], ['39', 'State-gov', 'Bachelors', '13', 'Never-married', 'Adm-clerical', 'Not-in-family', 'White', 'Male', '40', 'United-States'], ['50', 'Self-emp-not-inc', 'Bachelors', '13', 'Married-civ-spouse', 'Exec-managerial', 'Husband', 'White', 'Male', '13', 'United-States']]\n",
      "\n",
      "Number of instances (N):  1000\n",
      "Number of attributes (F):  11\n",
      "Number of labels (L):  2\n",
      "\n",
      "\n",
      "Predicted class probabilities for instance N-3:  {'<=50K': -20.77329258815317, '>50K': -19.692202815542075}\n",
      "Predicted class ID for instance N-3:  >50K\n",
      "\n",
      "Predicted class probabilities for instance N-2:  {'<=50K': -25.316514518297243, '>50K': -22.736372772266762}\n",
      "Predicted class ID for instance N-2:  >50K\n",
      "\n",
      "Predicted class probabilities for instance N-1:  {'<=50K': -16.932306216677457, '>50K': -16.849069171019938}\n",
      "Predicted class ID for instance N-1:  >50K\n"
     ]
    }
   ],
   "source": [
    "# This cell should act as your \"main\" function where you call the above functions \n",
    "# on the full ADULT data set, and print the evaluation score. [0.33 marks]\n",
    "\n",
    "\n",
    "\n",
    "# First, read in the data and apply your NB model to the OBJECTIVITY data\n",
    "\n",
    "attributes, train_data, test_data = preprocess(\"./dataset/adult.csv\")\n",
    "trained_data = train(train_data, attributes)\n",
    "\n",
    "probabilities, classifiers = predict(trained_data, test_data)\n",
    "\n",
    "# Second, print the full evaluation results from the evaluate() function\n",
    "\n",
    "confusion_matrix, accuracy, f_score = evaluate(classifiers, test_data)\n",
    "\n",
    "print(\"Accuracy: \", accuracy)\n",
    "print(\"F-score: \", f_score)\n",
    "print(\"Confusion matrix: \")\n",
    "print(confusion_matrix[0])\n",
    "print(confusion_matrix[1])\n",
    "\n",
    "# Third, print data statistics and model predictions, as instructed below \n",
    "# N is the total number of instances, F the total number of attributes, L the total number of labels\n",
    "# The \"class probabilities\" may be unnormalized\n",
    "# The \"predicted class ID\" must be in range (0, L)\n",
    "\n",
    "N = len(train_data) + len(test_data)\n",
    "F = len(attributes)\n",
    "L = len(trained_data[\"prior_probability\"])\n",
    "\n",
    "print(\"Attribute vectors of instances [0, 1, 2]: \", [instance[:-1] for instance in train_data[0:3]])\n",
    "\n",
    "print(\"\\nNumber of instances (N): \", N)\n",
    "print(\"Number of attributes (F): \", F)\n",
    "print(\"Number of labels (L): \", L)\n",
    "\n",
    "print(\"\\n\\nPredicted class probabilities for instance N-3: \", probabilities[len(test_data) - 3])\n",
    "print(\"Predicted class ID for instance N-3: \", classifiers[len(test_data) - 3])\n",
    "print(\"\\nPredicted class probabilities for instance N-2: \", probabilities[len(test_data) - 2])\n",
    "print(\"Predicted class ID for instance N-2: \", classifiers[len(test_data) - 2])\n",
    "print(\"\\nPredicted class probabilities for instance N-1: \", probabilities[len(test_data) - 1])\n",
    "print(\"Predicted class ID for instance N-1: \", classifiers[len(test_data) - 1])"
   ]
  },
  {
   "cell_type": "markdown",
   "metadata": {},
   "source": [
    "## Part 2: Conceptual questions [8 marks for groups of 1] / [16 marks for groups of 2]\n",
    "\n",
    "\n",
    "If you are in a group of 1, you should respond to Q1 and Q2.\n",
    "\n",
    "If you are in a group of 2, you should respond to Q1, Q2, Q3 and Q4.\n",
    "\n",
    "A response to a question should take about 100–250 words. You may need to develope codes or functions to help respond to the question here. \n",
    "\n",
    "#### NOTE: We strongly recommend <u>including figures or tables, etc.</u> to support your responses. The figures and tables inserted in Markdown cells must be reproducable by your code."
   ]
  },
  {
   "cell_type": "markdown",
   "metadata": {},
   "source": [
    "### Q1 [4 marks]\n",
    "<u>Sensitivity</u> and <u>specificity</u> are two model evaluation metrics.  A good model should have both sensitivity and specificity high. Use the $2 \\times 2$ confusion matrix returned by `evaluate()` to calculate the sensitivity and specificity. Do you see a difference between them? If so, what causes this difference? Provide suggestions to improve the model performance. "
   ]
  },
  {
   "cell_type": "code",
   "execution_count": 677,
   "metadata": {},
   "outputs": [
    {
     "name": "stdout",
     "output_type": "stream",
     "text": [
      "Model sensitivity:  0.8961038961038961\n",
      "Model specificity:  0.7391304347826086\n"
     ]
    }
   ],
   "source": [
    "# Write additional code here, if necessary (you may insert additional code cells)\n",
    "def calculate(confusion_matrix):\n",
    "    sensitivity = confusion_matrix[0][0] / (confusion_matrix[0][0] + confusion_matrix[0][1])\n",
    "    specificity = confusion_matrix[1][1] / (confusion_matrix[1][1] + confusion_matrix[1][0])\n",
    "    return sensitivity, specificity\n",
    "\n",
    "sensitivity, specificity = calculate(confusion_matrix)\n",
    "print(\"Model sensitivity: \", sensitivity)\n",
    "print(\"Model specificity: \", specificity)"
   ]
  },
  {
   "cell_type": "markdown",
   "metadata": {},
   "source": [
    "Provide your text answer of 150-200 words in this cell.\n",
    "\n",
    "Although the metrics were both relatively high (>0.5), there is a slight difference in the evaluation's sensitivity and specificity: specificity is lower than sensitivity by 0.16. This means that the model is better at identifying the positive cases, i.e adults that have less than 50,000 annual earnings, than identifying the negative ones - those with more than 50,000. This is due to the difference in the number of instances labelled \"<=50K\" and \">50K\". In this dataset, there is only 231 instances that are labelled \">50K\", whereas there are 769 with \"<=50K\" labels, 3 times its counterpart.\n",
    "\n",
    "Suggestion to improve the performance of the model: \n",
    "\n",
    "Create a training dataset with equal part of each labels, by either adding more \">50K\" instances or removing \"<=50K\" instances in the dataset."
   ]
  },
  {
   "cell_type": "code",
   "execution_count": 678,
   "metadata": {},
   "outputs": [
    {
     "name": "stdout",
     "output_type": "stream",
     "text": [
      "[('<=50K', 769), ('>50K', 231)]\n"
     ]
    }
   ],
   "source": [
    "def get_label_count(filename):\n",
    "    with open(filename, 'r') as f:\n",
    "        labels = [instance.strip().split(',')[-1] for instance in f.readlines()[1:]]\n",
    "        labels = map(lambda x: x.strip(), labels)\n",
    "        label_counter = Counter(labels)\n",
    "        return list(label_counter.most_common())\n",
    "\n",
    "label_count = get_label_count('dataset/adult.csv')\n",
    "print(label_count)\n"
   ]
  },
  {
   "cell_type": "markdown",
   "metadata": {},
   "source": [
    "### Q2 [4 marks]\n",
    "You can adopt different methods for training and/or testing, which will produce different results in model evaluation. \n",
    "\n",
    "(a) Instead of Gaussian, <u>implement KDE</u> for  $P(X_i|c_j)$ for numeric attributes $X_i$. Compare the evaluation results with Gaussian. Which one do you think is more suitable to model $P(X_i|c_j)$, Gaussian or KDE? Observe all numeric attributes and justify your answer.\n",
    "\n",
    "You can choose an arbitrary value for kernel bandwidth $\\sigma$ for KDE, but a value between 3 and 15 is recommended. You should write code to implement KDE, not call an existing function/method such as `KernelDensity` from `scikit-learn`.\n",
    "\n",
    "(b) Implement <u>10-fold and 2-fold cross-validations</u>.  \n",
    "\tObserve the evaluation results in each fold and the average accuracy, recall and specificity over all folds. \n",
    "\tComment on what is the effect by changing the values of $m$ in $m$-fold cross validation. (You can choose either Gaussian or KDE Naive Bayes.)"
   ]
  },
  {
   "cell_type": "code",
   "execution_count": 679,
   "metadata": {},
   "outputs": [
    {
     "data": {
      "text/plain": [
       "<matplotlib.legend.Legend at 0x126a6c370>"
      ]
     },
     "execution_count": 679,
     "metadata": {},
     "output_type": "execute_result"
    },
    {
     "data": {
      "image/png": "[encoded data removed]",
      "text/plain": [
       "<Figure size 864x504 with 1 Axes>"
      ]
     },
     "metadata": {
      "needs_background": "light"
     },
     "output_type": "display_data"
    }
   ],
   "source": [
    "# Write additional code here, if necessary (you may insert additional code cells)\n",
    "import matplotlib.pyplot as plt\n",
    "\n",
    "# Test KDE's kernel bandwidth\n",
    "x = []\n",
    "y = []\n",
    "max_accuracy = 0\n",
    "max_kernel = 0\n",
    "for i in range(3, 16):\n",
    "    probabilities, kde_prediction = predict(trained_data, test_data, kernel=i)\n",
    "    kde_confusion_matrix, kde_accuracy, kde_f_score = evaluate(kde_prediction, test_data)\n",
    "    if kde_accuracy > max_accuracy:\n",
    "        max_accuracy = kde_accuracy\n",
    "        max_kernel = i\n",
    "    x.append(i)\n",
    "    y.append(kde_accuracy)\n",
    "\n",
    "plt.figure(figsize=(12, 7))\n",
    "plt.scatter(x, y, alpha=0.7)\n",
    "plt.xlabel(\"Kernel bandwidth\")\n",
    "plt.ylabel(\"Accuracy\")\n",
    "plt.xlim(2, 16)\n",
    "plt.ylim(0.5, 1)\n",
    "plt.xticks(np.arange(3, 16, 3))\n",
    "plt.plot([accuracy] * 18, color='orange')\n",
    "plt.title(\"KDE vs Gaussian accuracy\")\n",
    "plt.legend((\"Gaussian\", \"KDE\"))\n",
    "\n"
   ]
  },
  {
   "cell_type": "code",
   "execution_count": 668,
   "metadata": {},
   "outputs": [
    {
     "data": {
      "text/plain": [
       "(array([164., 213., 269., 304., 167., 122.,  55.,  14.,   7.,   1.]),\n",
       " array([17. , 24.3, 31.6, 38.9, 46.2, 53.5, 60.8, 68.1, 75.4, 82.7, 90. ]),\n",
       " <BarContainer object of 10 artists>)"
      ]
     },
     "execution_count": 668,
     "metadata": {},
     "output_type": "execute_result"
    },
    {
     "data": {
      "image/png": "[encoded data removed]",
      "text/plain": [
       "<Figure size 864x504 with 1 Axes>"
      ]
     },
     "metadata": {
      "needs_background": "light"
     },
     "output_type": "display_data"
    }
   ],
   "source": [
    "# Age histogram\n",
    "plt.figure(figsize=(12, 7))\n",
    "age = trained_data[\"conditional_probability\"][\"<=50K\"][\"age\"] + trained_data[\"conditional_probability\"][\">50K\"][\"age\"]\n",
    "plt.hist(age)"
   ]
  },
  {
   "cell_type": "code",
   "execution_count": 667,
   "metadata": {},
   "outputs": [
    {
     "data": {
      "text/plain": [
       "(array([  8.,  10.,  28.,  17.,  54., 279., 248.,  31., 202.,  23.]),\n",
       " array([ 1. ,  2.5,  4. ,  5.5,  7. ,  8.5, 10. , 11.5, 13. , 14.5, 16. ]),\n",
       " <BarContainer object of 10 artists>)"
      ]
     },
     "execution_count": 667,
     "metadata": {},
     "output_type": "execute_result"
    },
    {
     "data": {
      "image/png": "[encoded data removed]",
      "text/plain": [
       "<Figure size 864x504 with 1 Axes>"
      ]
     },
     "metadata": {
      "needs_background": "light"
     },
     "output_type": "display_data"
    }
   ],
   "source": [
    "# Education number histogram\n",
    "plt.figure(figsize=(12, 7))\n",
    "education = trained_data[\"conditional_probability\"][\"<=50K\"][\"education num\"] + trained_data[\"conditional_probability\"][\">50K\"][\"education num\"]\n",
    "plt.hist(education)"
   ]
  },
  {
   "cell_type": "code",
   "execution_count": 669,
   "metadata": {},
   "outputs": [
    {
     "data": {
      "text/plain": [
       "(array([ 19.,  68.,  68.,  64., 512., 103.,  50.,  10.,   5.,   1.]),\n",
       " array([ 1. , 10.7, 20.4, 30.1, 39.8, 49.5, 59.2, 68.9, 78.6, 88.3, 98. ]),\n",
       " <BarContainer object of 10 artists>)"
      ]
     },
     "execution_count": 669,
     "metadata": {},
     "output_type": "execute_result"
    },
    {
     "data": {
      "image/png": "[encoded data removed]",
      "text/plain": [
       "<Figure size 864x504 with 1 Axes>"
      ]
     },
     "metadata": {
      "needs_background": "light"
     },
     "output_type": "display_data"
    }
   ],
   "source": [
    "# Hours of work per week histogram\n",
    "plt.figure(figsize=(12, 7))\n",
    "hours = trained_data[\"conditional_probability\"][\"<=50K\"][\"hours per week\"] + trained_data[\"conditional_probability\"][\">50K\"][\"hours per week\"]\n",
    "plt.hist(hours)"
   ]
  },
  {
   "cell_type": "code",
   "execution_count": 682,
   "metadata": {},
   "outputs": [
    {
     "name": "stdout",
     "output_type": "stream",
     "text": [
      "Confusion matrix:\n",
      "[67, 10]\n",
      "[5, 18]\n",
      "Accuracy:  0.85\n",
      "F1 score: 0.8993288590604027\n",
      "Sensitivity: 0.8701298701298701\n",
      "Specificity: 0.782608695652174\n"
     ]
    }
   ],
   "source": [
    "# Evaluation metrics for KDE with kernel bandwidth = 4\n",
    "\n",
    "probabilities, kde_prediction = predict(trained_data, test_data, kernel=4)\n",
    "kde_confusion_matrix, kde_accuracy, kde_f_score = evaluate(kde_prediction, test_data)\n",
    "sensitivity, specificity = calculate(kde_confusion_matrix)\n",
    "print(\"Confusion matrix:\")\n",
    "print(kde_confusion_matrix[0])\n",
    "print(kde_confusion_matrix[1])\n",
    "print(\"Accuracy: \", kde_accuracy)\n",
    "print(\"F1 score:\", kde_f_score)\n",
    "print(\"Sensitivity:\", sensitivity)\n",
    "print(\"Specificity:\", specificity)"
   ]
  },
  {
   "cell_type": "code",
   "execution_count": 680,
   "metadata": {},
   "outputs": [
    {
     "name": "stdout",
     "output_type": "stream",
     "text": [
      "10 - fold cross validation:\n",
      "Fold number 1, accuracy = 0.78, specificity = 0.88, recall = 0.7466666666666667\n",
      "Fold number 2, accuracy = 0.81, specificity = 0.8636363636363636, recall = 0.7948717948717948\n",
      "Fold number 3, accuracy = 0.8, specificity = 0.6956521739130435, recall = 0.8311688311688312\n",
      "Fold number 4, accuracy = 0.86, specificity = 0.782608695652174, recall = 0.8831168831168831\n",
      "Fold number 5, accuracy = 0.87, specificity = 0.7, recall = 0.9125\n",
      "Fold number 6, accuracy = 0.82, specificity = 0.7619047619047619, recall = 0.8354430379746836\n",
      "Fold number 7, accuracy = 0.83, specificity = 0.6956521739130435, recall = 0.8701298701298701\n",
      "Fold number 8, accuracy = 0.75, specificity = 0.5416666666666666, recall = 0.8157894736842105\n",
      "Fold number 9, accuracy = 0.8, specificity = 0.6296296296296297, recall = 0.863013698630137\n",
      "Fold number 10, accuracy = 0.86, specificity = 0.7391304347826086, recall = 0.8961038961038961\n",
      "Average accuracy:  0.818\n",
      "Average specificity:  0.7289880900098291\n",
      "Average recall:  0.8448804152346974\n",
      "======================================================================================\n",
      "2 - fold cross validation:\n",
      "Fold number 1, accuracy = 0.822, specificity = 0.7876106194690266, recall = 0.8320413436692506\n",
      "Fold number 2, accuracy = 0.816, specificity = 0.652542372881356, recall = 0.8664921465968587\n",
      "Average accuracy:  0.819\n",
      "Average specificity:  0.7200764961751913\n",
      "Average recall:  0.8492667451330547\n"
     ]
    }
   ],
   "source": [
    "def split(filename, n):\n",
    "    data = []\n",
    "    with open(filename, 'r') as f:\n",
    "        attributes = f.readline().strip().split(',')[:-1]\n",
    "        for line in f.readlines():\n",
    "            data.append(list(map(lambda x: x.strip(), line.strip().split(','))))\n",
    "    splits = []\n",
    "    for i in range(n):\n",
    "        start = i * math.ceil(len(data) / n)\n",
    "        end = (i + 1) * math.ceil(len(data) / n)\n",
    "        splits.append(data[start:end])\n",
    "    return splits, attributes\n",
    "\n",
    "\n",
    "def cross_validation(n):\n",
    "    print(n, \"- fold cross validation:\")\n",
    "    splits, attributes = split(\"dataset/adult.csv\", n)\n",
    "    accuracies = []\n",
    "    specificities = []\n",
    "    recalls = []\n",
    "    for i in range(n):\n",
    "        test_data = splits[i]\n",
    "        train_data = []\n",
    "        for j in range(n):\n",
    "            if j != i:\n",
    "                train_data += splits[j]\n",
    "                    \n",
    "        # Train and evaluate the model's performance\n",
    "        trained_data = train(train_data, attributes)\n",
    "        probabilities, classifiers = predict(trained_data, test_data)\n",
    "        confusion_matrix, accuracy, f_score = evaluate(classifiers, test_data)\n",
    "        sensitivity, specificity = calculate(confusion_matrix)\n",
    "        accuracies.append(accuracy)\n",
    "        specificities.append(specificity)\n",
    "        recalls.append(sensitivity)\n",
    "        print(f\"Fold number {i+1}, accuracy = {accuracy}, specificity = {specificity}, recall = {sensitivity}\")\n",
    "\n",
    "    print(\"Average accuracy: \", np.average(accuracies))\n",
    "    print(\"Average specificity: \", np.average(specificities))\n",
    "    print(\"Average recall: \", np.average(recalls))\n",
    "\n",
    "cross_validation(10)\n",
    "print(\"======================================================================================\")\n",
    "cross_validation(2)\n"
   ]
  },
  {
   "cell_type": "markdown",
   "metadata": {},
   "source": [
    "Provide your text answer of 150-200 words in this cell.\n",
    "\n",
    "(a) For performance comparison, I chose a kernel bandwidth of 4, as it recorded the highest accuracy for discrete bandwidth between 3 and 15 (as demonstrated by the plot above). We have 3 numerical attributes: age, education num and hours per week.\n",
    "\n",
    "The KDE model performs slightly worse than Gaussian, with an accuracy of 0.85 and sensitivity of 0.87 comparing to 0.86 and 0.89 respectively. However it does record a marginally higher specificity of 0.78 as oppose to 0.73 of Gaussian.\n",
    "\n",
    "Based on these results, Gaussian may seem more suitable for predicting the class label for the given adult dataset, but when plotting the numeric data on a histogram, the data do not resembles a normal distribution: age is right skewed, hours per week is clustered around 40 and education num is unevenly spread and slightly left skewed. So Gaussian should not be used when calculating the conditional probability. KDE on the other hand does not assume the distribution of the data, and therefore would be more suitable in predicting the class label for all 3 numerical attributes.\n",
    "\n",
    "(b) I chose Gaussian evaluation for the n-fold cross validations\n",
    "\n",
    "There are almost no difference between evaluation metrics of the 10 fold and 2 fold cross-validations: accuracy of 0.818 and 0.819, specificity of 0.729 and 0.72, recall of 0.845 and 0.849 respectively. \n",
    "\n",
    "There are more fluctuations in evaluation metrics when the fold size reaches 10 comparing to 2. This can be a result of the difference between training sizes. For 10 folds, the size of the training data is one fifth of that of 2 folds. The distribution of the dataset is more visible for smaller dataset, while for large dataset, uneven distribution in one part may be compensated by uneven distribution from another part, which leads to the larger difference in metrics with 10 folds validations. \n",
    "\n",
    "Normally decrease the number of folds would lead to a lower accuracy due to the decrease in training data size and increase in testing data size. However, that is not the case with this model, this can mean that the dataset is distributed evenly and there is no specific cluster of values at any section."
   ]
  },
  {
   "cell_type": "markdown",
   "metadata": {},
   "source": [
    "### Q3 [4 marks]\n",
    "In `train()`, you are asked to treat the missing value of nominal attributes as a new category. There is another option (as suggested in Thu lecture in week 2): <u>ignoring the missing values</u>. \n",
    "Compare the two methods in both large and small datasets. Comment and explain your observations.\n",
    "You can extract the first 50 records to construct a small dataset.Use Gaussian Naive Bayes only for this question."
   ]
  },
  {
   "cell_type": "code",
   "execution_count": 6,
   "metadata": {},
   "outputs": [],
   "source": [
    "# Write additional code here, if necessary (you may insert additional code cells)"
   ]
  },
  {
   "cell_type": "markdown",
   "metadata": {},
   "source": [
    "Provide your text answer of 150-200 words in this cell."
   ]
  },
  {
   "cell_type": "markdown",
   "metadata": {},
   "source": [
    "### Q4 [4 marks]\n",
    "In week 4, we have learned how to obtain information gain (IG) and gain ratio (GR) to choose an attribute to split a node in a decision tree. We will see how to apply them in the Naive Bayes classification.\n",
    "\n",
    "(a) Compute the GR of each attribute $X_i$, relative to the class distribution. In the Na\\\"ive Bayes classifier, remove attributes in the ascending order of GR: first, remove $P(X_i|c_j)$ such that $X_i$ has the least GR; second, remove $P(X_{i'}|c_j)$ such that $X_{i'}$ has the second least GR,......, until there is only one $X_{i*}$ with the largest GR remaining in the maximand $P(c_j) P(X_{i^*} | c_j)$. Observe the <u>change of the accuracy for both Gaussian and KDE</u> (Choose bandwidth $\\sigma=10$ for KDE).\n",
    "\n",
    "(b) Compute the IG between each pair of attributes. Describe and explain your observations. Choose an attribute and implement an estimator to predict the value of `education num`. Explain why you choose this attribute. Enumerate two other examples that an attribute can be used to estimate the other and explain the reason.  "
   ]
  },
  {
   "cell_type": "code",
   "execution_count": null,
   "metadata": {},
   "outputs": [],
   "source": [
    "# Write additional code here, if necessary (you may insert additional code cells)"
   ]
  },
  {
   "cell_type": "markdown",
   "metadata": {},
   "source": [
    "### (a)"
   ]
  },
  {
   "cell_type": "markdown",
   "metadata": {},
   "source": [
    "Provide your text answer to **Question 4.a** of 100-150 words in this cell."
   ]
  },
  {
   "cell_type": "markdown",
   "metadata": {},
   "source": [
    "### (b)"
   ]
  },
  {
   "cell_type": "markdown",
   "metadata": {},
   "source": [
    "Provide your text answer to **Question 4.b** of 150-200 words in this cell."
   ]
  },
  {
   "cell_type": "markdown",
   "metadata": {},
   "source": [
    "<b>Authorship Declaration</b>:\n",
    "\n",
    "   (1) I certify that the program contained in this submission is completely\n",
    "   my own individual work, except where explicitly noted by comments that\n",
    "   provide details otherwise.  I understand that work that has been developed\n",
    "   by another student, or by me in collaboration with other students,\n",
    "   or by non-students as a result of request, solicitation, or payment,\n",
    "   may not be submitted for assessment in this subject.  I understand that\n",
    "   submitting for assessment work developed by or in collaboration with\n",
    "   other students or non-students constitutes Academic Misconduct, and\n",
    "   may be penalized by mark deductions, or by other penalties determined\n",
    "   via the University of Melbourne Academic Honesty Policy, as described\n",
    "   at https://academicintegrity.unimelb.edu.au.\n",
    "\n",
    "   (2) I also certify that I have not provided a copy of this work in either\n",
    "   softcopy or hardcopy or any other form to any other student, and nor will\n",
    "   I do so until after the marks are released. I understand that providing\n",
    "   my work to other students, regardless of my intention or any undertakings\n",
    "   made to me by that other student, is also Academic Misconduct.\n",
    "\n",
    "   (3) I further understand that providing a copy of the assignment\n",
    "   specification to any form of code authoring or assignment tutoring\n",
    "   service, or drawing the attention of others to such services and code\n",
    "   that may have been made available via such a service, may be regarded\n",
    "   as Student General Misconduct (interfering with the teaching activities\n",
    "   of the University and/or inciting others to commit Academic Misconduct).\n",
    "   I understand that an allegation of Student General Misconduct may arise\n",
    "   regardless of whether or not I personally make use of such solutions\n",
    "   or sought benefit from such actions.\n",
    "\n",
    "   <b>Signed by</b>: Tuan Anh Chau - 1166394\n",
    "   \n",
    "   <b>Dated</b>: 31/3/2022"
   ]
  },
  {
   "cell_type": "markdown",
   "metadata": {},
   "source": []
  }
 ],
 "metadata": {
  "kernelspec": {
   "display_name": "Python 3",
   "language": "python",
   "name": "python3"
  },
  "language_info": {
   "codemirror_mode": {
    "name": "ipython",
    "version": 3
   },
   "file_extension": ".py",
   "mimetype": "text/x-python",
   "name": "python",
   "nbconvert_exporter": "python",
   "pygments_lexer": "ipython3",
   "version": "3.10.8 (main, Oct 13 2022, 10:17:43) [Clang 14.0.0 (clang-1400.0.29.102)]"
  },
  "vscode": {
   "interpreter": {
    "hash": "aee8b7b246df8f9039afb4144a1f6fd8d2ca17a180786b69acc140d282b71a49"
   }
  }
 },
 "nbformat": 4,
 "nbformat_minor": 4
}
